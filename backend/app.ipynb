{
 "cells": [
  {
   "cell_type": "code",
   "execution_count": 1,
   "metadata": {},
   "outputs": [
    {
     "name": "stderr",
     "output_type": "stream",
     "text": [
      "C:\\Users\\yash\\AppData\\Local\\Temp\\ipykernel_13096\\2144608074.py:3: DtypeWarning: Columns (6,10,12,13,14,16,18) have mixed types. Specify dtype option on import or set low_memory=False.\n",
      "  data = pd.read_csv('data/revenue_data.csv')\n"
     ]
    },
    {
     "data": {
      "text/plain": [
       "81795"
      ]
     },
     "execution_count": 1,
     "metadata": {},
     "output_type": "execute_result"
    }
   ],
   "source": [
    "import pandas as pd\n",
    "\n",
    "data = pd.read_csv('data/revenue_data.csv')\n",
    "len(data['Amount'][data['Revenue or Spending'] == 'Revenue'])\n",
    "# data.head()"
   ]
  },
  {
   "cell_type": "code",
   "execution_count": 3,
   "metadata": {},
   "outputs": [
    {
     "data": {
      "text/plain": [
       "{'buffalo': 109689536,\n",
       " 'sheep': 74259683,\n",
       " 'goat': 148854316,\n",
       " 'horse': 295490,\n",
       " 'pony': 44042,\n",
       " 'mule': 84125,\n",
       " 'donkey': 122500,\n",
       " 'camel': 251799,\n",
       " 'pig': 8979142}"
      ]
     },
     "execution_count": 3,
     "metadata": {},
     "output_type": "execute_result"
    }
   ],
   "source": [
    "cattleData = pd.read_csv('data/Livestock_data.csv')\n",
    "cattleData.drop(['ref_state_id','ref_district_id','state_name','district_name','Total_poultry','cattle'], axis=1, inplace=True)\n",
    "cattleData.head()\n",
    "animalTypes = cattleData.columns.values\n",
    "animalTypes\n",
    "animalData = {}\n",
    "for animal in animalTypes:\n",
    "    animalData[animal] = cattleData[animal].sum()\n",
    "animalData"
   ]
  },
  {
   "cell_type": "code",
   "execution_count": 4,
   "metadata": {},
   "outputs": [
    {
     "data": {
      "text/plain": [
       "{'rice': 100,\n",
       " 'maize': 100,\n",
       " 'chickpea': 100,\n",
       " 'kidneybeans': 100,\n",
       " 'pigeonpeas': 100,\n",
       " 'mothbeans': 100,\n",
       " 'mungbean': 100,\n",
       " 'blackgram': 100,\n",
       " 'lentil': 100,\n",
       " 'pomegranate': 100,\n",
       " 'banana': 100,\n",
       " 'mango': 100,\n",
       " 'grapes': 100,\n",
       " 'watermelon': 100,\n",
       " 'muskmelon': 100,\n",
       " 'apple': 100,\n",
       " 'orange': 100,\n",
       " 'papaya': 100,\n",
       " 'coconut': 100,\n",
       " 'cotton': 100,\n",
       " 'jute': 100,\n",
       " 'coffee': 100}"
      ]
     },
     "execution_count": 4,
     "metadata": {},
     "output_type": "execute_result"
    }
   ],
   "source": [
    "cropData = pd.read_csv('data/crop_data.csv')\n",
    "cropData['label'].unique()\n",
    "crops={}\n",
    "for crop in cropData['label'].unique():\n",
    "    crops[crop] = cropData['label'][cropData['label']==crop].count()\n",
    "crops\n",
    "# len(cropData['label'])"
   ]
  }
 ],
 "metadata": {
  "kernelspec": {
   "display_name": "Python 3.10.2 64-bit",
   "language": "python",
   "name": "python3"
  },
  "language_info": {
   "codemirror_mode": {
    "name": "ipython",
    "version": 3
   },
   "file_extension": ".py",
   "mimetype": "text/x-python",
   "name": "python",
   "nbconvert_exporter": "python",
   "pygments_lexer": "ipython3",
   "version": "3.10.2"
  },
  "orig_nbformat": 4,
  "vscode": {
   "interpreter": {
    "hash": "369f2c481f4da34e4445cda3fffd2e751bd1c4d706f27375911949ba6bb62e1c"
   }
  }
 },
 "nbformat": 4,
 "nbformat_minor": 2
}
